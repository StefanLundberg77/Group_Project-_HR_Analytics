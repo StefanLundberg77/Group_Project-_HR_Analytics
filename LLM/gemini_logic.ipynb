{
 "cells": [
  {
   "cell_type": "markdown",
   "metadata": {},
   "source": [
    "### Utilizing google Gemini to edit job descriptions & text from job ads for use in Streamlit dashboard downstream. Testing here."
   ]
  },
  {
   "cell_type": "code",
   "execution_count": 8,
   "metadata": {},
   "outputs": [
    {
     "data": {
      "text/plain": [
       "True"
      ]
     },
     "execution_count": 8,
     "metadata": {},
     "output_type": "execute_result"
    }
   ],
   "source": [
    "import google.generativeai as genai\n",
    "from dotenv import load_dotenv\n",
    "import os\n",
    "import duckdb\n",
    "import pandas as pd\n",
    "from pathlib import Path\n",
    "\n",
    "load_dotenv()\n",
    "\n",
    "#os.getenv(\"GEMINI_API_KEY\")"
   ]
  },
  {
   "cell_type": "code",
   "execution_count": 21,
   "metadata": {},
   "outputs": [
    {
     "data": {
      "text/html": [
       "<div>\n",
       "<style scoped>\n",
       "    .dataframe tbody tr th:only-of-type {\n",
       "        vertical-align: middle;\n",
       "    }\n",
       "\n",
       "    .dataframe tbody tr th {\n",
       "        vertical-align: top;\n",
       "    }\n",
       "\n",
       "    .dataframe thead th {\n",
       "        text-align: right;\n",
       "    }\n",
       "</style>\n",
       "<table border=\"1\" class=\"dataframe\">\n",
       "  <thead>\n",
       "    <tr style=\"text-align: right;\">\n",
       "      <th></th>\n",
       "      <th>table_schema</th>\n",
       "      <th>table_name</th>\n",
       "    </tr>\n",
       "  </thead>\n",
       "  <tbody>\n",
       "    <tr>\n",
       "      <th>0</th>\n",
       "      <td>staging</td>\n",
       "      <td>job_ads</td>\n",
       "    </tr>\n",
       "    <tr>\n",
       "      <th>1</th>\n",
       "      <td>staging</td>\n",
       "      <td>job_ads__application_contacts</td>\n",
       "    </tr>\n",
       "    <tr>\n",
       "      <th>2</th>\n",
       "      <td>staging</td>\n",
       "      <td>job_ads__driving_license</td>\n",
       "    </tr>\n",
       "    <tr>\n",
       "      <th>3</th>\n",
       "      <td>staging</td>\n",
       "      <td>job_ads__must_have__education</td>\n",
       "    </tr>\n",
       "    <tr>\n",
       "      <th>4</th>\n",
       "      <td>staging</td>\n",
       "      <td>job_ads__must_have__education_level</td>\n",
       "    </tr>\n",
       "    <tr>\n",
       "      <th>5</th>\n",
       "      <td>staging</td>\n",
       "      <td>job_ads__must_have__languages</td>\n",
       "    </tr>\n",
       "    <tr>\n",
       "      <th>6</th>\n",
       "      <td>staging</td>\n",
       "      <td>job_ads__must_have__skills</td>\n",
       "    </tr>\n",
       "    <tr>\n",
       "      <th>7</th>\n",
       "      <td>staging</td>\n",
       "      <td>job_ads__must_have__work_experiences</td>\n",
       "    </tr>\n",
       "    <tr>\n",
       "      <th>8</th>\n",
       "      <td>staging</td>\n",
       "      <td>job_ads__nice_to_have__education</td>\n",
       "    </tr>\n",
       "    <tr>\n",
       "      <th>9</th>\n",
       "      <td>staging</td>\n",
       "      <td>job_ads__nice_to_have__education_level</td>\n",
       "    </tr>\n",
       "    <tr>\n",
       "      <th>10</th>\n",
       "      <td>staging</td>\n",
       "      <td>job_ads__nice_to_have__languages</td>\n",
       "    </tr>\n",
       "    <tr>\n",
       "      <th>11</th>\n",
       "      <td>staging</td>\n",
       "      <td>job_ads__nice_to_have__skills</td>\n",
       "    </tr>\n",
       "    <tr>\n",
       "      <th>12</th>\n",
       "      <td>staging</td>\n",
       "      <td>job_ads__nice_to_have__work_experiences</td>\n",
       "    </tr>\n",
       "    <tr>\n",
       "      <th>13</th>\n",
       "      <td>staging</td>\n",
       "      <td>job_ads__workplace_address__coordinates</td>\n",
       "    </tr>\n",
       "    <tr>\n",
       "      <th>14</th>\n",
       "      <td>staging</td>\n",
       "      <td>_dlt_loads</td>\n",
       "    </tr>\n",
       "    <tr>\n",
       "      <th>15</th>\n",
       "      <td>staging</td>\n",
       "      <td>_dlt_pipeline_state</td>\n",
       "    </tr>\n",
       "    <tr>\n",
       "      <th>16</th>\n",
       "      <td>staging</td>\n",
       "      <td>_dlt_version</td>\n",
       "    </tr>\n",
       "  </tbody>\n",
       "</table>\n",
       "</div>"
      ],
      "text/plain": [
       "   table_schema                               table_name\n",
       "0       staging                                  job_ads\n",
       "1       staging            job_ads__application_contacts\n",
       "2       staging                 job_ads__driving_license\n",
       "3       staging            job_ads__must_have__education\n",
       "4       staging      job_ads__must_have__education_level\n",
       "5       staging            job_ads__must_have__languages\n",
       "6       staging               job_ads__must_have__skills\n",
       "7       staging     job_ads__must_have__work_experiences\n",
       "8       staging         job_ads__nice_to_have__education\n",
       "9       staging   job_ads__nice_to_have__education_level\n",
       "10      staging         job_ads__nice_to_have__languages\n",
       "11      staging            job_ads__nice_to_have__skills\n",
       "12      staging  job_ads__nice_to_have__work_experiences\n",
       "13      staging  job_ads__workplace_address__coordinates\n",
       "14      staging                               _dlt_loads\n",
       "15      staging                      _dlt_pipeline_state\n",
       "16      staging                             _dlt_version"
      ]
     },
     "execution_count": 21,
     "metadata": {},
     "output_type": "execute_result"
    }
   ],
   "source": [
    "con.sql(\"\"\"\n",
    "    SELECT table_schema, table_name\n",
    "    FROM information_schema.tables\n",
    "    WHERE table_type = 'BASE TABLE'\n",
    "\"\"\").df()"
   ]
  },
  {
   "cell_type": "code",
   "execution_count": 20,
   "metadata": {},
   "outputs": [],
   "source": [
    "db_path = Path(\"../ads_data_warehouse.duckdb\")\n",
    "con = duckdb.connect(str(db_path.resolve()))\n"
   ]
  }
 ],
 "metadata": {
  "kernelspec": {
   "display_name": ".venv",
   "language": "python",
   "name": "python3"
  },
  "language_info": {
   "codemirror_mode": {
    "name": "ipython",
    "version": 3
   },
   "file_extension": ".py",
   "mimetype": "text/x-python",
   "name": "python",
   "nbconvert_exporter": "python",
   "pygments_lexer": "ipython3",
   "version": "3.12.9"
  }
 },
 "nbformat": 4,
 "nbformat_minor": 2
}
